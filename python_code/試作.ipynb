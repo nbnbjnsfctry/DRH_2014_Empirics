{
 "cells": [
  {
   "cell_type": "markdown",
   "id": "38f7f1c9",
   "metadata": {},
   "source": [
    "### 再現コード"
   ]
  },
  {
   "cell_type": "code",
   "execution_count": 26,
   "id": "e805eaea",
   "metadata": {},
   "outputs": [],
   "source": [
    "import numpy as np\n",
    "from scipy.optimize import root\n",
    "from scipy.stats import genpareto\n",
    "from scipy.optimize import fsolve\n"
   ]
  },
  {
   "cell_type": "code",
   "execution_count": 17,
   "id": "9f68b651",
   "metadata": {},
   "outputs": [],
   "source": [
    "#Parameter Values\n",
    "\n",
    "beta = 0.9747\n",
    "h_M = 0.9\n",
    "h_S = 1.4\n",
    "alpha = -1.5\n",
    "mu = 0.6\n",
    "gamma = 1-mu #(needs to be 1-mu)\n",
    "sigma = 0.6\n",
    "N = 500\n",
    "l_idx = np.arange(N)\n",
    "a = 45 #Pareto coefficient\n",
    "ksi1 = 1.142793\n",
    "ksi2 = 0.0082433\n",
    "delta = 7.5\n",
    "Lbar = 100\n",
    "kappa = 0.08\n",
    "T = 240"
   ]
  },
  {
   "cell_type": "code",
   "execution_count": 19,
   "id": "d2f83960",
   "metadata": {},
   "outputs": [],
   "source": [
    "# Arrays\n",
    "w      = np.zeros((N,T), dtype=np.float64)\n",
    "c_M    = np.zeros((N,T), dtype=np.float64)\n",
    "c_S    = np.zeros((N,T), dtype=np.float64)\n",
    "p_M    = np.zeros((N,T), dtype=np.float64)\n",
    "p_S    = np.ones((N,T), dtype=np.float64)  # p_S は常に1\n",
    "M  = np.zeros((N,T), dtype=np.float64)\n",
    "S  = np.zeros((N,T), dtype=np.float64)\n",
    "L_M    = np.zeros((N,T), dtype=np.float64)\n",
    "L_S    = np.zeros((N,T), dtype=np.float64)\n",
    "L      = np.zeros((N,T), dtype=np.float64)\n",
    "R_M    = np.zeros((N,T), dtype=np.float64)\n",
    "R_S    = np.zeros((N,T), dtype=np.float64)\n",
    "phi_M  = np.zeros((N,T), dtype=np.float64)\n",
    "phi_S  = np.zeros((N,T), dtype=np.float64)\n",
    "theta  = np.zeros((N,T), dtype=np.int8)      # ← ここは int8/bool で節約\n",
    "ES_M   = np.zeros((N,T), dtype=np.float64)\n",
    "\n",
    "Ubar   = np.zeros(T, dtype=np.float64)\n",
    "RI     = np.zeros(T, dtype=np.float64)\n",
    "pM_first = np.zeros(T, dtype=np.float64)      # p_M の先頭地点\n",
    "\n",
    "# “朝の生産性”は t+1 を使うので +1 期ぶん確保\n",
    "Z_M_mor = np.zeros((N,T+1), dtype=np.float64)\n",
    "Z_S_mor = np.zeros((N,T+1), dtype=np.float64)\n",
    "Z_M     = np.zeros((N,T), dtype=np.float64)\n",
    "Z_S     = np.zeros((N,T), dtype=np.float64)\n"
   ]
  },
  {
   "cell_type": "code",
   "execution_count": null,
   "id": "3879b534",
   "metadata": {},
   "outputs": [],
   "source": [
    "def residuals(X,t):\n",
    "    # これは、X = [Ubar(t), p_M(1,t), RI(t)]を受け取って、各変数を計算する関数\n",
    "    Ubar[t]   = X[0]\n",
    "    p_M[0, t] = X[1]         # 先頭地点の価格\n",
    "    RI[t]     = X[2]\n",
    "    \n",
    "    \n",
    "    for i in range(N):\n",
    "        # 比較生産性の計算\n",
    "    \n",
    "        x =  ((p_M[i,t]/h_M)/(p_S[i,t]/h_S)) ** (1/(alpha-1))\n",
    "        w[i,t] = Ubar[t] * (x * p_M[i,t] + p_S[i,t]) / ((h_M * (x**alpha)+h_S)**(1/alpha)) - RI[t]\n",
    "        c_S[i,t] = (w[i,t]+RI[t]) / (p_S[i,t]+p_M[i,t]*x)\n",
    "        c_M[i,t] = c_S[i,t] * x\n",
    "        \n",
    "        phi_M[i,t] = 1 - ((Z_M[i,t] * p_M[i,t] * gamma)/(ksi2*(a-1)*(w[i,t]/(mu*p_M[i,t]))**((1-gamma)/gamma))) **(-1/2)\n",
    "        \n",
    "        phi_S[i,t] = 1 - ((Z_S[i,t] * p_S[i,t] * gamma)/(ksi2*(a-1)*(w[i,t]/(sigma*p_S[i,t]))**((1-gamma)/gamma))) **(-1/2)\n",
    "        \n",
    "        if phi_M[i,t] < 0:\n",
    "            phi_M[i,t] = 0\n",
    "        if phi_M[i,t] > 1:\n",
    "            phi_M[i,t] = 1\n",
    "        if phi_S[i,t] < 0:\n",
    "            phi_S[i,t] = 0\n",
    "        if phi_S[i,t] > 1:\n",
    "            phi_S[i,t] = 1\n",
    "\n",
    "        L_M[i,t] = ((w[i,t])/(mu*p_M[i,t] * (Z_M[i,t] * (phi_M[i,t]/(a-1) + 1))**gamma)) ** (1/(mu-1))\n",
    "        L_S[i,t] = ((w[i,t])/(sigma*p_S[i,t] * (Z_S[i,t] * (phi_S[i,t]/(a-1) + 1))**gamma)) ** (1/(sigma-1))\n",
    "        \n",
    "        if (ksi1 + ksi2/(1-phi_M[i,t])) * w[i,t] > ( (Z_M[i,t]**gamma * p_M[i,t] * L_M[i,t]**mu)/((a-1)**gamma) ) * ((phi_M[i,t]+a-1)**gamma - (a-1)**gamma) :\n",
    "            phi_M[i,t] = 0\n",
    "            L_M[i,t] = ((w[i,t])/(mu*p_M[i,t] * (Z_M[i,t])**gamma)) ** (1/(mu-1))\n",
    "        if (ksi1 + ksi2/(1-phi_S[i,t])) * w[i,t] > ( (Z_S[i,t]**gamma * p_S[i,t] * L_S[i,t]**sigma)/((a-1)**gamma) ) * ((phi_S[i,t]+a-1)**gamma - (a-1)**gamma) :\n",
    "            phi_S[i,t] = 0\n",
    "            L_S[i,t] = ((w[i,t])/(sigma*p_S[i,t] * (Z_S[i,t])**gamma)) ** (1/(sigma-1))\n",
    "            \n",
    "        R_M[i,t] = p_M[i,t] * (Z_M[i,t] * (phi_M[i,t]/(a-1) + 1))**gamma * L_M[i,t]**mu - w[i,t] * L_M[i,t] - (ksi1 + ksi2/(1-phi_M[i,t])) * w[i,t]\n",
    "        R_S[i,t] = p_S[i,t] * (Z_S[i,t] * (phi_S[i,t]/(a-1) + 1))**gamma * L_S[i,t]**sigma - w[i,t] * L_S[i,t] - (ksi1 + ksi2/(1-phi_S[i,t])) * w[i,t]\n",
    "        \n",
    "        if R_M[i,t] > R_S[i,t]:\n",
    "            theta[i,t] = 1\n",
    "            phi_S[i,t] = 0\n",
    "        else:\n",
    "            theta[i,t] = 0\n",
    "            phi_M[i,t] = 0\n",
    "        \n",
    "        M[i,t] = (Z_M[i,t] * (phi_M[i,t]/(a-1) + 1))**gamma * L_M[i,t]**mu\n",
    "        S[i,t] = (Z_S[i,t] * (phi_S[i,t]/(a-1) + 1))**gamma * L_S[i,t]**sigma\n",
    "        \n",
    "        L[i,t] = theta[i,t] * L_M[i,t] + (1-theta[i,t]) * L_S[i,t]\n",
    "        \n",
    "        if i == 0:\n",
    "            if phi_M[i,t] > 0:\n",
    "                ES_M[i,t] = (theta[i,t](M[i,t]-(w[i,t]/p_M[i,t]) * (ksi1 + ksi2/(1-phi_M[i,t]))) - c_M[i,t] * L_M[i,t]) / N\n",
    "            else:\n",
    "                ES_M[i,t] = (theta[i,t]*M[i,t] - c_M[i,t]*L_M[i,t]) / N\n",
    "        if i > 0:\n",
    "            if phi_M[i,t] > 0:\n",
    "                ES_M[i,t] = ES_M[i-1,t] + (theta[i,t]*(M[i,t]-(w[i,t]/p_M[i,t]) * (ksi1 + ksi2/(1-phi_M[i,t]))) - c_M[i,t] * L_M[i,t] - kappa * np.abs(ES_M[i-1,t])) / N \n",
    "            else:\n",
    "                ES_M[i,t] = ES_M[i-1,t] + (theta[i,t]*M[i,t] - c_M[i,t]*L_M[i,t] - kappa * np.abs(ES_M[i-1,t])) / N\n",
    "\n",
    "        if ES_M[i,t] > 0 :\n",
    "            if i < N :\n",
    "                p_M[i+1,t] = p_M[i,t] * np.exp(kappa/N)\n",
    "        else : \n",
    "            if i < N :\n",
    "                p_M[i+1,t] = p_M[i,t] * np.exp(-kappa/N)       \n",
    "\n",
    "    if (Ubar[t] > 0):# and sum((1-theta[:,t]) * L[:,t]) / N < Lbar :\n",
    "        res1 = ES_M[N,t]\n",
    "    else:\n",
    "        res1 = 1000000000000\n",
    "\n",
    "    if p_M[1,t] > 0:\n",
    "        res2 = sum(L[:,t]) / N - Lbar\n",
    "    else:\n",
    "        res2 = 1000000000000\n",
    "    \n",
    "    if RI[t] > 0:\n",
    "        res3 = RI[t] - (sum(theta[:,t]*R_M[:,t]) + sum((1-theta[:,t]) * R_S[:,t])) / (Lbar * N)\n",
    "    else:\n",
    "        res3 = 1000000000000\n",
    "    \n",
    "    return [res1, res2, res3]\n"
   ]
  },
  {
   "cell_type": "code",
   "execution_count": null,
   "id": "b5cdeaf4",
   "metadata": {},
   "outputs": [],
   "source": []
  },
  {
   "cell_type": "code",
   "execution_count": null,
   "id": "a6b747b9",
   "metadata": {},
   "outputs": [],
   "source": [
    "for t in range(T):\n",
    "    if t == 0:\n",
    "        Z_M_mor[:,0] = 0.8 + 0.4*(l_idx/N)\n",
    "        Z_S_mor[:,0] = 1.0\n",
    "    X0 = np.array([Ubar[t-1], p_M[0,t-1], RI[t-1]]) if t>0 else np.array([0.0492, 1.035, 0.054])\n",
    "    X_star = fsolve(lambda X: residuals(X, t), X0)\n"
   ]
  },
  {
   "cell_type": "code",
   "execution_count": null,
   "id": "398f2a3e",
   "metadata": {},
   "outputs": [],
   "source": [
    "def diffusion_max_kernel(Z_t, delta):\n",
    "    N = Z_t.shape[0]\n",
    "    # 素直に O(N^2) でOK（N=500なら許容）。必要なら近傍半径で高速化\n",
    "    Z_next = np.empty_like(Z_t)\n",
    "    for i in range(N):\n",
    "        weights = np.exp(-delta * np.abs(np.arange(N) - i) / N)\n",
    "        Z_next[i] = np.max(weights * Z_t)\n",
    "    return Z_next"
   ]
  },
  {
   "cell_type": "code",
   "execution_count": null,
   "id": "ba5d71c6",
   "metadata": {},
   "outputs": [],
   "source": [
    "X0 = np.array([0.0492, 1.035, 0.054])  # 初期値 (np.array, shape (3,))\n",
    "\n",
    "\n",
    "for t in range(T):\n",
    "\n",
    "    sol = root(SDsysFinal, X0, method=\"hybr\", tol=1e-4, options={\"maxfev\": 1000000})\n",
    "\n",
    "    X = sol.x       # 解ベクトル (np.array, shape (3,))\n",
    "    Eval = sol.fun  # 残差ベクトル (np.array, shape (3,))\n",
    "    \n",
    "    Ubar[t] = X[0]\n",
    "    p_M[1,t] = X[1]\n",
    "    RI[t] = X[2]\n",
    "    \n",
    " \n",
    "\n",
    "    # Diffusion\n",
    "    Z_M_Mor[:, t+1] = diffusion_max_kernel(Z_M[:, t], delta)\n",
    "    Z_S_Mor[:, t+1] = diffusion_max_kernel(Z_S[:, t], delta)\n",
    "    \n"
   ]
  },
  {
   "cell_type": "code",
   "execution_count": 13,
   "id": "65e76a64",
   "metadata": {},
   "outputs": [
    {
     "name": "stdout",
     "output_type": "stream",
     "text": [
      "[[0. 0.]\n",
      " [0. 0.]\n",
      " [0. 0.]]\n",
      "0.0\n"
     ]
    }
   ],
   "source": [
    "a = np.zeros((3,2))\n",
    "print(a)\n",
    "# aの2行1列目の要素を表示\n",
    "print(a[1,0])"
   ]
  },
  {
   "cell_type": "code",
   "execution_count": 16,
   "id": "3bef1527",
   "metadata": {},
   "outputs": [
    {
     "data": {
      "text/plain": [
       "7"
      ]
     },
     "execution_count": 16,
     "metadata": {},
     "output_type": "execute_result"
    }
   ],
   "source": [
    "5^2"
   ]
  }
 ],
 "metadata": {
  "kernelspec": {
   "display_name": "venv (3.11.7)",
   "language": "python",
   "name": "python3"
  },
  "language_info": {
   "codemirror_mode": {
    "name": "ipython",
    "version": 3
   },
   "file_extension": ".py",
   "mimetype": "text/x-python",
   "name": "python",
   "nbconvert_exporter": "python",
   "pygments_lexer": "ipython3",
   "version": "3.11.7"
  }
 },
 "nbformat": 4,
 "nbformat_minor": 5
}
